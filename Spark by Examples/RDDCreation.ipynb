{
  "nbformat": 4,
  "nbformat_minor": 0,
  "metadata": {
    "colab": {
      "provenance": []
    },
    "kernelspec": {
      "name": "python3",
      "display_name": "Python 3"
    },
    "language_info": {
      "name": "python"
    }
  },
  "cells": [
    {
      "cell_type": "code",
      "source": [],
      "metadata": {
        "id": "bG9UuqKeldxs"
      },
      "execution_count": null,
      "outputs": []
    },
    {
      "cell_type": "code",
      "execution_count": 1,
      "metadata": {
        "colab": {
          "base_uri": "https://localhost:8080/"
        },
        "id": "ljOuDvRBlUtg",
        "outputId": "03879008-b621-4331-ea58-db4ccdacc295"
      },
      "outputs": [
        {
          "output_type": "stream",
          "name": "stdout",
          "text": [
            "Alice,24,Engineer\n",
            "Bob,30,Data Scientist\n",
            "Charlie,28,Product Manager\n",
            "Diana,35,Doctor\n",
            "Eve,22,Designer\n"
          ]
        }
      ],
      "source": [
        "from pyspark.sql import SparkSession\n",
        "\n",
        "# Create SparkSession\n",
        "spark = SparkSession.builder \\\n",
        "    .master(\"local[1]\") \\\n",
        "    .appName(\"SparkByExamples.com\") \\\n",
        "    .getOrCreate()\n",
        "\n",
        "# Read text file from the same folder\n",
        "rdd2 = spark.sparkContext.textFile(\"input.txt\")\n",
        "\n",
        "# Print first 5 lines\n",
        "for line in rdd2.take(5):\n",
        "    print(line)\n",
        "\n",
        "# Stop Spark\n",
        "spark.stop()\n"
      ]
    },
    {
      "cell_type": "code",
      "source": [],
      "metadata": {
        "id": "hY2qfA_1lXQt"
      },
      "execution_count": null,
      "outputs": []
    }
  ]
}